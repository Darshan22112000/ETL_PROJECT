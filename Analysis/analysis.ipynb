{
 "cells": [
  {
   "cell_type": "code",
   "execution_count": 309,
   "id": "initial_id",
   "metadata": {
    "collapsed": true,
    "ExecuteTime": {
     "end_time": "2024-04-29T23:31:07.200179900Z",
     "start_time": "2024-04-29T23:31:07.170922200Z"
    }
   },
   "outputs": [],
   "source": [
    "import math\n",
    "from datetime import datetime\n",
    "import os\n",
    "import pandas as pd\n",
    "import numpy as np\n",
    "\n",
    "from database.DatabaseUtil import DatabaseUtil\n",
    "from database.models import Crash, Person, Vehicle\n",
    "from sqlalchemy import create_engine, MetaData, Table, tuple_, or_, and_\n",
    "\n",
    "from bokeh.plotting import figure, show\n",
    "from bokeh.models import ColumnDataSource, HoverTool\n",
    "from bokeh.io import output_notebook, output_file, save, export_png\n",
    "from bokeh.palettes import Category20_20, Category10_5, Spectral11, Category10, Category20c\n",
    "from bokeh.transform import dodge, cumsum, factor_cmap\n",
    "from bokeh.layouts import gridplot"
   ]
  },
  {
   "cell_type": "code",
   "execution_count": 310,
   "outputs": [],
   "source": [
    "# pip install selenium"
   ],
   "metadata": {
    "collapsed": false,
    "ExecuteTime": {
     "end_time": "2024-04-29T23:31:08.691680500Z",
     "start_time": "2024-04-29T23:31:08.669175Z"
    }
   },
   "id": "207ee1321924394c"
  },
  {
   "cell_type": "code",
   "execution_count": 311,
   "outputs": [],
   "source": [
    "output_file(\"visualizations.html\")\n",
    "height=450\n",
    "width=500"
   ],
   "metadata": {
    "collapsed": false,
    "ExecuteTime": {
     "end_time": "2024-04-29T23:31:09.496237900Z",
     "start_time": "2024-04-29T23:31:09.476136400Z"
    }
   },
   "id": "d8984ffe2fcf3927"
  },
  {
   "cell_type": "code",
   "execution_count": 315,
   "outputs": [
    {
     "name": "stderr",
     "output_type": "stream",
     "text": [
      "C:\\Users\\Darshan Vetal\\AppData\\Local\\Temp\\ipykernel_33200\\971978446.py:13: UserWarning: Could not infer format, so each element will be parsed individually, falling back to `dateutil`. To ensure parsing is consistent and as-expected, please specify a format.\n",
      "  df['crash_time'] = df['crash_time'].astype(str).astype('datetime64[ns]').dt.time\n"
     ]
    },
    {
     "data": {
      "text/plain": "(      collision_id  crash_date crash_time                    on_street_name  \\\n 0          4136992  2019-05-21   22:50:00                       GOLD STREET   \n 1          4528198  2022-04-06   00:41:00                              None   \n 2          4527096  2022-05-11   08:55:00                    MADISON AVENUE   \n 3          4531282  2022-05-26   04:20:00                         FDR DRIVE   \n 4          4531821  2022-05-27   13:00:00                              None   \n ...            ...         ...        ...                               ...   \n 9995       4234527  2019-10-25   22:15:00  EAST 87 STREET                     \n 9996       4224883  2019-10-17   21:00:00  ATLANTIC AVENUE                    \n 9997       4232533  2019-10-30   08:00:00  MELROSE AVENUE                     \n 9998       4231999  2019-10-29   07:39:00  LIBERTY AVENUE                     \n 9999       4228333  2019-10-23   18:40:00                              None   \n \n                                off_street_name cross_street_name  \\\n 0                                         None    CONCORD STREET   \n 1                      288       WILLIS AVENUE              None   \n 2                                         None    EAST 50 STREET   \n 3                                         None              None   \n 4                    2562      HYLAN BOULEVARD              None   \n ...                                        ...               ...   \n 9995                                      None          AVENUE N   \n 9996                                      None              None   \n 9997                                      None   EAST 161 STREET   \n 9998                                      None    VERMONT STREET   \n 9999  113-25    BEACH CHANNEL DRIVE                         None   \n \n             borough zip_code   contributing_factor_vehicle_1  \\\n 0          BROOKLYN  11201.0  Passing or Lane Usage Improper   \n 1             BRONX  10454.0             Alcohol Involvement   \n 2         MANHATTAN  10022.0  Driver Inattention/Distraction   \n 3              None     None           Following Too Closely   \n 4     STATEN ISLAND  10306.0                     Unspecified   \n ...             ...      ...                             ...   \n 9995       BROOKLYN  11236.0                     Unspecified   \n 9996           None     None   Failure to Yield Right-of-Way   \n 9997          BRONX  10451.0                     Unspecified   \n 9998       BROOKLYN  11207.0     Traffic Control Disregarded   \n 9999         QUEENS  11694.0            Unsafe Lane Changing   \n \n      contributing_factor_vehicle_2  ... vehicle_type_code_4 persons_injured  \\\n 0                      Unspecified  ...                None               0   \n 1                      Unspecified  ...                None               1   \n 2                      Unspecified  ...                None               1   \n 3             Unsafe Lane Changing  ...                None               2   \n 4                             None  ...                None               0   \n ...                            ...  ...                 ...             ...   \n 9995                   Unspecified  ...                None               1   \n 9996                   Unspecified  ...                None               0   \n 9997                   Unspecified  ...                None               0   \n 9998   Traffic Control Disregarded  ...                None               2   \n 9999                   Unspecified  ...                None               1   \n \n      persons_killed motorist_injured motorist_killed pedestrians_injured  \\\n 0                 0                0               0                   0   \n 1                 0                1               0                   0   \n 2                 0                1               0                   0   \n 3                 0                2               0                   0   \n 4                 0                0               0                   0   \n ...             ...              ...             ...                 ...   \n 9995              0                1               0                   0   \n 9996              0                0               0                   0   \n 9997              0                0               0                   0   \n 9998              0                2               0                   0   \n 9999              0                1               0                   0   \n \n       pedestrians_killed  cyclist_injured  cyclist_killed  deaths_by_borough  \n 0                      0                0               0                2.0  \n 1                      0                0               0                2.0  \n 2                      0                0               0                0.0  \n 3                      0                0               0                NaN  \n 4                      0                0               0                1.0  \n ...                  ...              ...             ...                ...  \n 9995                   0                0               0                2.0  \n 9996                   0                0               0                NaN  \n 9997                   0                0               0                2.0  \n 9998                   0                0               0                2.0  \n 9999                   0                0               0                4.0  \n \n [10000 rows x 25 columns],\n      collision_id crash_date crash_time                    on_street_name  \\\n 0         4322803 2020-06-22   12:06:00  ROCHESTER AVENUE                   \n 1         4321220 2020-06-18   17:57:00  COLLEGE POINT BOULEVARD            \n 2         4322213 2020-06-22   13:00:00  262 PLACE                          \n 3         4322070 2020-06-22   00:25:00                              None   \n 4         4322789 2020-06-22   22:05:00  FDR DRIVE                          \n ..            ...        ...        ...                               ...   \n 839       4364188 2020-11-03   13:45:00  KELLY STREET                       \n 840       4363964 2020-11-03   15:56:00  169 STREET                         \n 841       4226528 2019-10-19   15:03:00                              None   \n 842       4364106 2020-11-03   18:40:00  EAST HOUSTON STREET                \n 843       4363985 2020-11-03   17:40:00  93 AVENUE                          \n \n                               off_street_name   cross_street_name   borough  \\\n 0                                        None     EASTERN PARKWAY  BROOKLYN   \n 1                                        None       FOWLER AVENUE    QUEENS   \n 2                                        None  HUNGRY HARBOR ROAD    QUEENS   \n 3    1081      PIERCE AVENUE                                 None     BRONX   \n 4                                        None                None      None   \n ..                                        ...                 ...       ...   \n 839                                      None     EAST 165 STREET     BRONX   \n 840                                      None          116 AVENUE    QUEENS   \n 841  40        WEST 225 STREET                               None     BRONX   \n 842                                      None                None      None   \n 843                                      None          214 STREET    QUEENS   \n \n     zip_code   contributing_factor_vehicle_1 contributing_factor_vehicle_2  \\\n 0    11213.0   Failure to Yield Right-of-Way                   Unspecified   \n 1    11355.0           Following Too Closely                   Unspecified   \n 2    11422.0   Failure to Yield Right-of-Way                   Unspecified   \n 3    10461.0  Reaction to Uninvolved Vehicle                   Unspecified   \n 4       None  Reaction to Uninvolved Vehicle       Outside Car Distraction   \n ..       ...                             ...                           ...   \n 839  10459.0                     Unspecified                   Unspecified   \n 840  11434.0                     Unspecified                   Unspecified   \n 841  10463.0              Turning Improperly                  Unsafe Speed   \n 842     None  Driver Inattention/Distraction                          None   \n 843  11428.0   Failure to Yield Right-of-Way                   Unspecified   \n \n      ...    vehicle_damage_1  vehicle_damage_2   vehicle_damage_3  \\\n 0    ...     Left Side Doors   Left Side Doors   Left Rear Bumper   \n 1    ...    Center Front End   Center Back End  Right Rear Bumper   \n 2    ...  Right Front Bumper  Center Front End               None   \n 3    ...     Left Side Doors              None               None   \n 4    ...     Center Back End              None               None   \n ..   ...                 ...               ...                ...   \n 839  ...           No Damage         No Damage          No Damage   \n 840  ...  Right Front Bumper              None          No Damage   \n 841  ...   Left Front Bumper         No Damage          No Damage   \n 842  ...                None              None               None   \n 843  ...                None              None               None   \n \n     public_property_damage public_property_damage_type  \\\n 0                        N                        None   \n 1                        N                        None   \n 2                        N                        None   \n 3                        N                        None   \n 4                        N                        None   \n ..                     ...                         ...   \n 839                      N                        None   \n 840                      N                        None   \n 841                      N                        None   \n 842                      N                        None   \n 843                      N                        None   \n \n             contributing_factor_1_1        contributing_factor_2_1  \\\n 0                       Unspecified                    Unspecified   \n 1                       Unspecified                    Unspecified   \n 2                       Unspecified                    Unspecified   \n 3                       Unspecified                    Unspecified   \n 4           Outside Car Distraction                    Unspecified   \n ..                              ...                            ...   \n 839                     Unspecified                    Unspecified   \n 840                     Unspecified                    Unspecified   \n 841              Turning Improperly                    Unspecified   \n 842  Driver Inattention/Distraction  Failure to Yield Right-of-Way   \n 843                     Unspecified                    Unspecified   \n \n      deaths_by_vehicle_make  deaths_by_vehicle_type  deaths_by_borough  \n 0                       0.0                     1.0                2.0  \n 1                       0.0                     4.0                4.0  \n 2                       0.0                     1.0                4.0  \n 3                       0.0                     1.0                2.0  \n 4                       0.0                     4.0               None  \n ..                      ...                     ...                ...  \n 839                     0.0                     1.0                2.0  \n 840                     0.0                     1.0                4.0  \n 841                     0.0                     4.0                2.0  \n 842                     0.0                     4.0               None  \n 843                     0.0                     1.0                4.0  \n \n [844 rows x 64 columns])"
     },
     "execution_count": 315,
     "metadata": {},
     "output_type": "execute_result"
    }
   ],
   "source": [
    "def get_merged_data():\n",
    "    session = DatabaseUtil.get_postgres_session()\n",
    "    sq1 = session.query(Crash)\n",
    "    crash = pd.read_sql(sq1.statement, session.bind)\n",
    "    sq = session.query(Crash, Person, Vehicle) \\\n",
    "        .join(Person, Person.collision_id == Crash.collision_id) \\\n",
    "        .join(Vehicle, and_(Vehicle.collision_id == Crash.collision_id, Vehicle.vehicle_id == Person.vehicle_id))\n",
    "    df = pd.read_sql(sq.statement, session.bind)\n",
    "    DatabaseUtil.close_postgres_session(session)\n",
    "\n",
    "    df.drop(columns={'collision_id_1', 'crash_time_1', 'crash_date_1', 'collision_id_2', 'crash_time_2',\n",
    "                           'crash_date_2', 'vehicle_id_1'}, inplace=True)\n",
    "    df['crash_time'] = df['crash_time'].astype(str).astype('datetime64[ns]').dt.time\n",
    "    df['crash_date'] = df['crash_date'].astype(str).astype('datetime64[ns]')\n",
    "    \n",
    "    df['deaths_by_vehicle_make'] = df.groupby(['vehicle_make']).persons_killed.transform('sum')\n",
    "    df['deaths_by_vehicle_type'] = df.groupby(['vehicle_type']).persons_killed.transform('sum')\n",
    "    # df['deaths_by_borough'] = df.groupby(['borough']).persons_killed.transform('sum')\n",
    "    \n",
    "    crash['deaths_by_borough'] = crash.groupby(['borough']).persons_killed.transform('sum')\n",
    "    df = pd.merge(left=df, right=crash[['borough', 'deaths_by_borough']].drop_duplicates(), how='left', on=['borough'])\n",
    "    df.replace({np.nan: None}, inplace=True)\n",
    "    return crash, df\n",
    "# get_merged_data()"
   ],
   "metadata": {
    "collapsed": false,
    "ExecuteTime": {
     "end_time": "2024-04-29T23:32:30.900911500Z",
     "start_time": "2024-04-29T23:31:41.625909100Z"
    }
   },
   "id": "f0f2e625061d202"
  },
  {
   "cell_type": "code",
   "execution_count": 313,
   "outputs": [
    {
     "name": "stderr",
     "output_type": "stream",
     "text": [
      "C:\\Users\\Darshan Vetal\\AppData\\Local\\Temp\\ipykernel_33200\\3246166586.py:13: UserWarning: Could not infer format, so each element will be parsed individually, falling back to `dateutil`. To ensure parsing is consistent and as-expected, please specify a format.\n",
      "  df['crash_time'] = df['crash_time'].astype(str).astype('datetime64[ns]').dt.time\n"
     ]
    }
   ],
   "source": [
    "crash, df = get_merged_data()"
   ],
   "metadata": {
    "collapsed": false,
    "ExecuteTime": {
     "end_time": "2024-04-29T23:31:17.655696300Z",
     "start_time": "2024-04-29T23:31:15.811593900Z"
    }
   },
   "id": "9a5745d27f740ced"
  },
  {
   "cell_type": "code",
   "execution_count": 293,
   "outputs": [
    {
     "data": {
      "text/plain": "   collision_id crash_date crash_time                    on_street_name  \\\n0       4322803 2020-06-22   12:06:00  ROCHESTER AVENUE                   \n1       4321220 2020-06-18   17:57:00  COLLEGE POINT BOULEVARD            \n2       4322213 2020-06-22   13:00:00  262 PLACE                          \n3       4322070 2020-06-22   00:25:00                              None   \n4       4322789 2020-06-22   22:05:00  FDR DRIVE                          \n\n                            off_street_name   cross_street_name   borough  \\\n0                                      None     EASTERN PARKWAY  BROOKLYN   \n1                                      None       FOWLER AVENUE    QUEENS   \n2                                      None  HUNGRY HARBOR ROAD    QUEENS   \n3  1081      PIERCE AVENUE                                 None     BRONX   \n4                                      None                None      None   \n\n  zip_code   contributing_factor_vehicle_1 contributing_factor_vehicle_2  ...  \\\n0  11213.0   Failure to Yield Right-of-Way                   Unspecified  ...   \n1  11355.0           Following Too Closely                   Unspecified  ...   \n2  11422.0   Failure to Yield Right-of-Way                   Unspecified  ...   \n3  10461.0  Reaction to Uninvolved Vehicle                   Unspecified  ...   \n4     None  Reaction to Uninvolved Vehicle       Outside Car Distraction  ...   \n\n     vehicle_damage_1  vehicle_damage_2   vehicle_damage_3  \\\n0     Left Side Doors   Left Side Doors   Left Rear Bumper   \n1    Center Front End   Center Back End  Right Rear Bumper   \n2  Right Front Bumper  Center Front End               None   \n3     Left Side Doors              None               None   \n4     Center Back End              None               None   \n\n  public_property_damage public_property_damage_type  contributing_factor_1_1  \\\n0                      N                        None              Unspecified   \n1                      N                        None              Unspecified   \n2                      N                        None              Unspecified   \n3                      N                        None              Unspecified   \n4                      N                        None  Outside Car Distraction   \n\n   contributing_factor_2_1  deaths_by_vehicle_make  deaths_by_vehicle_type  \\\n0              Unspecified                     0.0                     1.0   \n1              Unspecified                     0.0                     4.0   \n2              Unspecified                     0.0                     1.0   \n3              Unspecified                     0.0                     1.0   \n4              Unspecified                     0.0                     4.0   \n\n   deaths_by_borough  \n0                2.0  \n1                4.0  \n2                4.0  \n3                2.0  \n4               None  \n\n[5 rows x 64 columns]",
      "text/html": "<div>\n<style scoped>\n    .dataframe tbody tr th:only-of-type {\n        vertical-align: middle;\n    }\n\n    .dataframe tbody tr th {\n        vertical-align: top;\n    }\n\n    .dataframe thead th {\n        text-align: right;\n    }\n</style>\n<table border=\"1\" class=\"dataframe\">\n  <thead>\n    <tr style=\"text-align: right;\">\n      <th></th>\n      <th>collision_id</th>\n      <th>crash_date</th>\n      <th>crash_time</th>\n      <th>on_street_name</th>\n      <th>off_street_name</th>\n      <th>cross_street_name</th>\n      <th>borough</th>\n      <th>zip_code</th>\n      <th>contributing_factor_vehicle_1</th>\n      <th>contributing_factor_vehicle_2</th>\n      <th>...</th>\n      <th>vehicle_damage_1</th>\n      <th>vehicle_damage_2</th>\n      <th>vehicle_damage_3</th>\n      <th>public_property_damage</th>\n      <th>public_property_damage_type</th>\n      <th>contributing_factor_1_1</th>\n      <th>contributing_factor_2_1</th>\n      <th>deaths_by_vehicle_make</th>\n      <th>deaths_by_vehicle_type</th>\n      <th>deaths_by_borough</th>\n    </tr>\n  </thead>\n  <tbody>\n    <tr>\n      <th>0</th>\n      <td>4322803</td>\n      <td>2020-06-22</td>\n      <td>12:06:00</td>\n      <td>ROCHESTER AVENUE</td>\n      <td>None</td>\n      <td>EASTERN PARKWAY</td>\n      <td>BROOKLYN</td>\n      <td>11213.0</td>\n      <td>Failure to Yield Right-of-Way</td>\n      <td>Unspecified</td>\n      <td>...</td>\n      <td>Left Side Doors</td>\n      <td>Left Side Doors</td>\n      <td>Left Rear Bumper</td>\n      <td>N</td>\n      <td>None</td>\n      <td>Unspecified</td>\n      <td>Unspecified</td>\n      <td>0.0</td>\n      <td>1.0</td>\n      <td>2.0</td>\n    </tr>\n    <tr>\n      <th>1</th>\n      <td>4321220</td>\n      <td>2020-06-18</td>\n      <td>17:57:00</td>\n      <td>COLLEGE POINT BOULEVARD</td>\n      <td>None</td>\n      <td>FOWLER AVENUE</td>\n      <td>QUEENS</td>\n      <td>11355.0</td>\n      <td>Following Too Closely</td>\n      <td>Unspecified</td>\n      <td>...</td>\n      <td>Center Front End</td>\n      <td>Center Back End</td>\n      <td>Right Rear Bumper</td>\n      <td>N</td>\n      <td>None</td>\n      <td>Unspecified</td>\n      <td>Unspecified</td>\n      <td>0.0</td>\n      <td>4.0</td>\n      <td>4.0</td>\n    </tr>\n    <tr>\n      <th>2</th>\n      <td>4322213</td>\n      <td>2020-06-22</td>\n      <td>13:00:00</td>\n      <td>262 PLACE</td>\n      <td>None</td>\n      <td>HUNGRY HARBOR ROAD</td>\n      <td>QUEENS</td>\n      <td>11422.0</td>\n      <td>Failure to Yield Right-of-Way</td>\n      <td>Unspecified</td>\n      <td>...</td>\n      <td>Right Front Bumper</td>\n      <td>Center Front End</td>\n      <td>None</td>\n      <td>N</td>\n      <td>None</td>\n      <td>Unspecified</td>\n      <td>Unspecified</td>\n      <td>0.0</td>\n      <td>1.0</td>\n      <td>4.0</td>\n    </tr>\n    <tr>\n      <th>3</th>\n      <td>4322070</td>\n      <td>2020-06-22</td>\n      <td>00:25:00</td>\n      <td>None</td>\n      <td>1081      PIERCE AVENUE</td>\n      <td>None</td>\n      <td>BRONX</td>\n      <td>10461.0</td>\n      <td>Reaction to Uninvolved Vehicle</td>\n      <td>Unspecified</td>\n      <td>...</td>\n      <td>Left Side Doors</td>\n      <td>None</td>\n      <td>None</td>\n      <td>N</td>\n      <td>None</td>\n      <td>Unspecified</td>\n      <td>Unspecified</td>\n      <td>0.0</td>\n      <td>1.0</td>\n      <td>2.0</td>\n    </tr>\n    <tr>\n      <th>4</th>\n      <td>4322789</td>\n      <td>2020-06-22</td>\n      <td>22:05:00</td>\n      <td>FDR DRIVE</td>\n      <td>None</td>\n      <td>None</td>\n      <td>None</td>\n      <td>None</td>\n      <td>Reaction to Uninvolved Vehicle</td>\n      <td>Outside Car Distraction</td>\n      <td>...</td>\n      <td>Center Back End</td>\n      <td>None</td>\n      <td>None</td>\n      <td>N</td>\n      <td>None</td>\n      <td>Outside Car Distraction</td>\n      <td>Unspecified</td>\n      <td>0.0</td>\n      <td>4.0</td>\n      <td>None</td>\n    </tr>\n  </tbody>\n</table>\n<p>5 rows × 64 columns</p>\n</div>"
     },
     "execution_count": 293,
     "metadata": {},
     "output_type": "execute_result"
    }
   ],
   "source": [
    "df.head()"
   ],
   "metadata": {
    "collapsed": false,
    "ExecuteTime": {
     "end_time": "2024-04-29T23:17:56.220743700Z",
     "start_time": "2024-04-29T23:17:56.147103400Z"
    }
   },
   "id": "8a920210057bb2fe"
  },
  {
   "cell_type": "code",
   "execution_count": 294,
   "outputs": [],
   "source": [
    "# Plot 1: Persons injured per crash date\n",
    "p1 = figure(x_axis_type='datetime', title='Persons Injured per Crash Date')\n",
    "p1.vbar(x=df['crash_date'], top=df['persons_injured'], width=0.5)\n",
    "p1.xaxis.axis_label = 'Crash Date'\n",
    "p1.yaxis.axis_label = 'Persons Injured'\n"
   ],
   "metadata": {
    "collapsed": false,
    "ExecuteTime": {
     "end_time": "2024-04-29T23:17:56.371552600Z",
     "start_time": "2024-04-29T23:17:56.183932700Z"
    }
   },
   "id": "71799721c50a565a"
  },
  {
   "cell_type": "code",
   "execution_count": 295,
   "outputs": [],
   "source": [
    "# Plot 2: Vehicle type distribution\n",
    "vehicle_counts = df['vehicle_type_code_1'].value_counts()\n",
    "vehicle_source = ColumnDataSource(data=dict(vehicle_types=vehicle_counts.index, counts=vehicle_counts.values))\n",
    "p2 = figure(x_range=vehicle_counts.index.tolist(), title='Vehicle Type Distribution', toolbar_location=None, tools=\"\")\n",
    "p2.vbar(x='vehicle_types', top='counts', width=0.5, source=vehicle_source, line_color='white')\n",
    "p2.xaxis.major_label_orientation = 'vertical'\n",
    "p2.xaxis.axis_label = 'Vehicle Type'\n",
    "p2.yaxis.axis_label = 'Count'\n",
    "# show(p2)"
   ],
   "metadata": {
    "collapsed": false,
    "ExecuteTime": {
     "end_time": "2024-04-29T23:17:56.428453700Z",
     "start_time": "2024-04-29T23:17:56.252334Z"
    }
   },
   "id": "ca244d03e28ed7b6"
  },
  {
   "cell_type": "code",
   "execution_count": 296,
   "outputs": [],
   "source": [
    "# Create a ColumnDataSource\n",
    "df1 = df.drop_duplicates(['vehicle_type']).sort_values('deaths_by_vehicle_type',ascending = False).head(10)\n",
    "source = ColumnDataSource(data={'makes': df1['vehicle_type'], 'killed_counts': df1['deaths_by_vehicle_type']})\n",
    "\n",
    "# Create the figure\n",
    "p4 = figure(x_range=df1['vehicle_type'], title='Persons Killed by Vehicle Type', toolbar_location=None, tools='')\n",
    "\n",
    "# Add vbar glyph\n",
    "p4.vbar(x='makes', top='killed_counts', width=0.9, legend_field='makes', source=source)\n",
    "\n",
    "# Set axis labels and orientation\n",
    "p4.xgrid.grid_line_color = None\n",
    "p4.xaxis.axis_label = 'Vehicle Type'\n",
    "p4.yaxis.axis_label = 'Number of Persons Killed'\n",
    "p4.xaxis.major_label_orientation = 1.2\n",
    "# show(p)"
   ],
   "metadata": {
    "collapsed": false,
    "ExecuteTime": {
     "end_time": "2024-04-29T23:17:56.476705Z",
     "start_time": "2024-04-29T23:17:56.326319300Z"
    }
   },
   "id": "d7be6566899ae78d"
  },
  {
   "cell_type": "code",
   "execution_count": 297,
   "outputs": [],
   "source": [
    "# Group by borough and calculate the total number of crashes in each borough\n",
    "borough_crash_counts = crash.groupby('borough')['persons_killed'].sum().reset_index()\n",
    "\n",
    "## Create the pie chart\n",
    "p5 = figure(title=\"Distribution of Crashes by Borough\", toolbar_location=None, tools=\"hover\", tooltips=\"@borough: @persons_killed\", x_range=(-1, 1.0), height=height, width=width)\n",
    "# Define colors for the pie slices\n",
    "borough_crash_counts['color'] = Category20c[len(borough_crash_counts)]\n",
    "borough_crash_counts['angle'] = borough_crash_counts['persons_killed'] / borough_crash_counts['persons_killed'].sum() * 2 * math.pi\n",
    "\n",
    "# Add wedge glyphs for each borough\n",
    "p5.wedge(x=0, y=1, radius=0.4, start_angle=cumsum('angle', include_zero=True), end_angle=cumsum('angle'), line_color=\"white\", \n",
    "        fill_color='color', legend_field=\"borough\", source=borough_crash_counts)\n",
    "\n",
    "# Remove grid and axis\n",
    "p5.axis.axis_label = None\n",
    "p5.axis.visible = False\n",
    "p5.grid.grid_line_color = None"
   ],
   "metadata": {
    "collapsed": false,
    "ExecuteTime": {
     "end_time": "2024-04-29T23:17:56.615418900Z",
     "start_time": "2024-04-29T23:17:56.383795500Z"
    }
   },
   "id": "222da69a9606166d"
  },
  {
   "cell_type": "code",
   "execution_count": 298,
   "outputs": [],
   "source": [
    "# Group by borough and calculate the total number of crashes in each borough\n",
    "borough_crash_counts = df.groupby('person_sex')['persons_killed'].sum().reset_index()\n",
    "\n",
    "## Create the pie chart\n",
    "p6 = figure(title=\"Distribution of Crashes by Gender\", toolbar_location=None, tools=\"hover\", tooltips=\"@person_sex: @persons_killed\", x_range=(-1, 1.0), height=height, width=width)\n",
    "# Define colors for the pie slices\n",
    "borough_crash_counts['color'] = Category20c[len(borough_crash_counts)]\n",
    "borough_crash_counts['angle'] = borough_crash_counts['persons_killed'] / borough_crash_counts['persons_killed'].sum() * 2 * math.pi\n",
    "\n",
    "# Add wedge glyphs for each borough\n",
    "p6.wedge(x=0, y=1, radius=0.4, start_angle=cumsum('angle', include_zero=True), end_angle=cumsum('angle'), line_color=\"white\", \n",
    "        fill_color='color', legend_field=\"person_sex\", source=borough_crash_counts)\n",
    "\n",
    "# Remove grid and axis\n",
    "p6.axis.axis_label = None\n",
    "p6.axis.visible = False\n",
    "p6.grid.grid_line_color = None"
   ],
   "metadata": {
    "collapsed": false,
    "ExecuteTime": {
     "end_time": "2024-04-29T23:17:56.623380700Z",
     "start_time": "2024-04-29T23:17:56.446586300Z"
    }
   },
   "id": "5c824881b24bae40"
  },
  {
   "cell_type": "code",
   "execution_count": 299,
   "outputs": [],
   "source": [
    "# Combine contributing factors from both columns\n",
    "#graph1\n",
    "df1 = df\n",
    "all_contributing_factors = pd.concat([df1['contributing_factor_vehicle_1'], df1['contributing_factor_vehicle_2']], ignore_index=True)\n",
    "\n",
    "# Get value counts of contributing factors\n",
    "contributing_factor_counts = all_contributing_factors.value_counts().head(10)\n",
    "\n",
    "# Create Bokeh plot\n",
    "output_file(\"contributing_factors.html\")\n",
    "\n",
    "p7 = figure(x_range=contributing_factor_counts.index.tolist(), title=\"Top 10 Most Common Contributing Factors in Crashes\",\n",
    "           x_axis_label='Contributing Factor', y_axis_label='Crash Frequency',\n",
    "            height=height,width=width)\n",
    "\n",
    "p7.vbar(x=contributing_factor_counts.index.tolist(), top=contributing_factor_counts.values, width=0.9\n",
    "        , legend_label='Count')\n",
    "\n",
    "p7.xgrid.grid_line_color = None\n",
    "p7.y_range.start = 0\n",
    "p7.xaxis.major_label_orientation = 0.8  # Rotate x-axis labels for better visibility"
   ],
   "metadata": {
    "collapsed": false,
    "ExecuteTime": {
     "end_time": "2024-04-29T23:17:56.661431600Z",
     "start_time": "2024-04-29T23:17:56.539701700Z"
    }
   },
   "id": "d1a42c03e612254a"
  },
  {
   "cell_type": "code",
   "execution_count": 300,
   "outputs": [
    {
     "data": {
      "text/plain": "GlyphRenderer(id='p8356', ...)",
      "text/html": "<div style=\"display: table;\"><div style=\"display: table-row;\"><div style=\"display: table-cell;\"><b title=\"bokeh.models.renderers.glyph_renderer.GlyphRenderer\">GlyphRenderer</b>(</div><div style=\"display: table-cell;\">id&nbsp;=&nbsp;'p8356', <span id=\"p8360\" style=\"cursor: pointer;\">&hellip;)</span></div></div><div class=\"p8359\" style=\"display: none;\"><div style=\"display: table-cell;\"></div><div style=\"display: table-cell;\">context_menu&nbsp;=&nbsp;None,</div></div><div class=\"p8359\" style=\"display: none;\"><div style=\"display: table-cell;\"></div><div style=\"display: table-cell;\">coordinates&nbsp;=&nbsp;None,</div></div><div class=\"p8359\" style=\"display: none;\"><div style=\"display: table-cell;\"></div><div style=\"display: table-cell;\">data_source&nbsp;=&nbsp;ColumnDataSource(id='p8350', ...),</div></div><div class=\"p8359\" style=\"display: none;\"><div style=\"display: table-cell;\"></div><div style=\"display: table-cell;\">glyph&nbsp;=&nbsp;VBar(id='p8353', ...),</div></div><div class=\"p8359\" style=\"display: none;\"><div style=\"display: table-cell;\"></div><div style=\"display: table-cell;\">group&nbsp;=&nbsp;None,</div></div><div class=\"p8359\" style=\"display: none;\"><div style=\"display: table-cell;\"></div><div style=\"display: table-cell;\">hover_glyph&nbsp;=&nbsp;None,</div></div><div class=\"p8359\" style=\"display: none;\"><div style=\"display: table-cell;\"></div><div style=\"display: table-cell;\">js_event_callbacks&nbsp;=&nbsp;{},</div></div><div class=\"p8359\" style=\"display: none;\"><div style=\"display: table-cell;\"></div><div style=\"display: table-cell;\">js_property_callbacks&nbsp;=&nbsp;{},</div></div><div class=\"p8359\" style=\"display: none;\"><div style=\"display: table-cell;\"></div><div style=\"display: table-cell;\">level&nbsp;=&nbsp;'glyph',</div></div><div class=\"p8359\" style=\"display: none;\"><div style=\"display: table-cell;\"></div><div style=\"display: table-cell;\">muted&nbsp;=&nbsp;False,</div></div><div class=\"p8359\" style=\"display: none;\"><div style=\"display: table-cell;\"></div><div style=\"display: table-cell;\">muted_glyph&nbsp;=&nbsp;VBar(id='p8355', ...),</div></div><div class=\"p8359\" style=\"display: none;\"><div style=\"display: table-cell;\"></div><div style=\"display: table-cell;\">name&nbsp;=&nbsp;None,</div></div><div class=\"p8359\" style=\"display: none;\"><div style=\"display: table-cell;\"></div><div style=\"display: table-cell;\">nonselection_glyph&nbsp;=&nbsp;VBar(id='p8354', ...),</div></div><div class=\"p8359\" style=\"display: none;\"><div style=\"display: table-cell;\"></div><div style=\"display: table-cell;\">propagate_hover&nbsp;=&nbsp;False,</div></div><div class=\"p8359\" style=\"display: none;\"><div style=\"display: table-cell;\"></div><div style=\"display: table-cell;\">selection_glyph&nbsp;=&nbsp;'auto',</div></div><div class=\"p8359\" style=\"display: none;\"><div style=\"display: table-cell;\"></div><div style=\"display: table-cell;\">subscribed_events&nbsp;=&nbsp;PropertyValueSet(),</div></div><div class=\"p8359\" style=\"display: none;\"><div style=\"display: table-cell;\"></div><div style=\"display: table-cell;\">syncable&nbsp;=&nbsp;True,</div></div><div class=\"p8359\" style=\"display: none;\"><div style=\"display: table-cell;\"></div><div style=\"display: table-cell;\">tags&nbsp;=&nbsp;[],</div></div><div class=\"p8359\" style=\"display: none;\"><div style=\"display: table-cell;\"></div><div style=\"display: table-cell;\">view&nbsp;=&nbsp;CDSView(id='p8357', ...),</div></div><div class=\"p8359\" style=\"display: none;\"><div style=\"display: table-cell;\"></div><div style=\"display: table-cell;\">visible&nbsp;=&nbsp;True,</div></div><div class=\"p8359\" style=\"display: none;\"><div style=\"display: table-cell;\"></div><div style=\"display: table-cell;\">x_range_name&nbsp;=&nbsp;'default',</div></div><div class=\"p8359\" style=\"display: none;\"><div style=\"display: table-cell;\"></div><div style=\"display: table-cell;\">y_range_name&nbsp;=&nbsp;'default')</div></div></div>\n<script>\n(function() {\n  let expanded = false;\n  const ellipsis = document.getElementById(\"p8360\");\n  ellipsis.addEventListener(\"click\", function() {\n    const rows = document.getElementsByClassName(\"p8359\");\n    for (let i = 0; i < rows.length; i++) {\n      const el = rows[i];\n      el.style.display = expanded ? \"none\" : \"table-row\";\n    }\n    ellipsis.innerHTML = expanded ? \"&hellip;)\" : \"&lsaquo;&lsaquo;&lsaquo;\";\n    expanded = !expanded;\n  });\n})();\n</script>\n"
     },
     "execution_count": 300,
     "metadata": {},
     "output_type": "execute_result"
    }
   ],
   "source": [
    "#graph2\n",
    "df2 = crash\n",
    "df2['crash_date'] = df2['crash_date'].astype(str).astype('datetime64[ns]')\n",
    "now = datetime.now()\n",
    "ten_years_ago = now.replace(year=now.year - 10)\n",
    "recent_accidents = df2[df2['crash_date'] >= ten_years_ago]\n",
    "accidents_per_year = recent_accidents['crash_date'].dt.year.value_counts().sort_index()\n",
    "\n",
    "# Create Bokeh plot\n",
    "output_file('accidents_analysis.html')\n",
    "\n",
    "# Plot: Number of accidents per year in the last 10 years\n",
    "years = accidents_per_year.index.astype(str).tolist()\n",
    "num_accidents = accidents_per_year.values.tolist()\n",
    "\n",
    "p8 = figure(title='Number of Accidents per Year in the Last 5 Years', x_range=years, y_range=(0, max(num_accidents)+10))\n",
    "p8 .vbar(x=years, top=num_accidents, width=0.5)"
   ],
   "metadata": {
    "collapsed": false,
    "ExecuteTime": {
     "end_time": "2024-04-29T23:17:56.751608700Z",
     "start_time": "2024-04-29T23:17:56.603084700Z"
    }
   },
   "id": "b15639dc4e0779cc"
  },
  {
   "cell_type": "code",
   "execution_count": 301,
   "outputs": [],
   "source": [
    "# Graph 3 : Bar chart of vehicle_make\n",
    "make_counts = df1['vehicle_make'].value_counts().head(10)\n",
    "\n",
    "source = ColumnDataSource(data=dict(vehicle_make=make_counts.index.tolist(), counts=make_counts.tolist()))\n",
    "p9 = figure(x_range=make_counts.index.tolist(), title=\"Top 10 Vehicle Makes Involved in Collisions\",\n",
    "            x_axis_label='Vehicle Make', y_axis_label='Count')\n",
    "p9.vbar(x='vehicle_make', top='counts', width=0.9, source=source)\n",
    "p9.xaxis.major_label_orientation = 0.8"
   ],
   "metadata": {
    "collapsed": false,
    "ExecuteTime": {
     "end_time": "2024-04-29T23:17:56.785277300Z",
     "start_time": "2024-04-29T23:17:56.688526400Z"
    }
   },
   "id": "3aeb4b0a273e2356"
  },
  {
   "cell_type": "code",
   "execution_count": 302,
   "outputs": [],
   "source": [
    "# GRaph 4\n",
    "# Extract day of the week from crash_date\n",
    "df1['day_of_week'] = df1['crash_date'].dt.day_name()\n",
    "\n",
    "# Count the occurrences of accidents by day of the week\n",
    "day_counts = df1['day_of_week'].value_counts().reindex(['Monday', 'Tuesday', 'Wednesday', 'Thursday', 'Friday', 'Saturday', 'Sunday'])\n",
    "\n",
    "# Create Bokeh plot\n",
    "output_file(\"accidents_day_of_week.html\")\n",
    "\n",
    "days = day_counts.index.tolist()\n",
    "counts = day_counts.values.tolist()\n",
    "#colors = Category10[len(days)]  # Color palette for bars\n",
    "\n",
    "p10 = figure(x_range=days, title=\"Accidents by Day of Week\",\n",
    "           x_axis_label='Day of Week', y_axis_label='Number of Accidents', height=height)\n",
    "\n",
    "# Add bars to the plot\n",
    "p10.vbar(x=days, top=counts, width=0.9)\n",
    "\n",
    "# Rotate x-axis labels for better visibility\n",
    "p10.xaxis.major_label_orientation = 1.2"
   ],
   "metadata": {
    "collapsed": false,
    "ExecuteTime": {
     "end_time": "2024-04-29T23:17:56.872777500Z",
     "start_time": "2024-04-29T23:17:56.757610700Z"
    }
   },
   "id": "38a3dc5173614df9"
  },
  {
   "cell_type": "code",
   "execution_count": 303,
   "outputs": [],
   "source": [
    "#Graph 6\n",
    "\n",
    "df1['person_age']=pd.to_numeric(df1['person_age'])\n",
    "\n",
    "p12 = figure(title=\"Histogram of Age of People Involved in Accidents\", tools=\"hover\",\n",
    "           tooltips=[(\"Age\", \"@left\"), (\"Count\", \"@top\")], x_range=(0, 100))\n",
    "\n",
    "hist, edges = np.histogram(df1['person_age'], bins=10, range=(0, 100))  # Specify range and bins\n",
    "\n",
    "p12.quad(top=hist, bottom=0, left=edges[:-1], right=edges[1:],  alpha=0.7) #line_color=\"white\",\n",
    "\n",
    "# Customize plot properties\n",
    "p12.xaxis.axis_label = \"Age\"\n",
    "p12.yaxis.axis_label = \"Count\""
   ],
   "metadata": {
    "collapsed": false,
    "ExecuteTime": {
     "end_time": "2024-04-29T23:17:56.940567700Z",
     "start_time": "2024-04-29T23:17:56.840506100Z"
    }
   },
   "id": "d461262eaeec8136"
  },
  {
   "cell_type": "code",
   "execution_count": 304,
   "outputs": [],
   "source": [
    "#Graph 5\n",
    "# Define time of day categories\n",
    "def get_time_category(time_str):\n",
    "    hour = int(time_str.split(':')[0])\n",
    "    if 5 <= hour < 12:\n",
    "        return 'Morning'\n",
    "    elif 12 <= hour < 17:\n",
    "        return 'Afternoon'\n",
    "    elif 17 <= hour < 21:\n",
    "        return 'Evening'\n",
    "    else:\n",
    "        return 'Night'\n",
    "\n",
    "# Assign time of day categories\n",
    "df1['crash_time']=df1['crash_time'].astype(str)\n",
    "df1['time_category'] = df1['crash_time'].apply(get_time_category)\n",
    "\n",
    "# Aggregate accidents counts by time category\n",
    "time_category_counts = df1.groupby('time_category')['collision_id'].sum().reindex(['Morning', 'Afternoon', 'Evening', 'Night'])\n",
    "\n",
    "\n",
    "time_categories = time_category_counts.index.tolist()\n",
    "accident_counts = time_category_counts.values.tolist()\n",
    "\n",
    "# Create bar chart\n",
    "p11 = figure(x_range=time_categories, title=\"Accidents by Time of Day\", height=height, width=width,\n",
    "           toolbar_location=None, tools=\"hover\", tooltips=\"@time_categories: @accident_counts\")\n",
    "\n",
    "\n",
    "p11.vbar(x=time_categories, top=accident_counts, width=0.9)\n",
    "\n",
    "# Customize plot properties\n",
    "p11.xgrid.grid_line_color = None\n",
    "p11.y_range.start = 0\n",
    "p11.xaxis.axis_label = \"Time of Day\"\n",
    "p11.yaxis.axis_label = \"Number of Accidents\"\n"
   ],
   "metadata": {
    "collapsed": false,
    "ExecuteTime": {
     "end_time": "2024-04-29T23:17:56.971533Z",
     "start_time": "2024-04-29T23:17:56.906872400Z"
    }
   },
   "id": "2364782ce6413ad"
  },
  {
   "cell_type": "code",
   "execution_count": 305,
   "outputs": [],
   "source": [
    "#Graph 7\n",
    "region_counts = df1['borough'].value_counts()  # Change to 'state' for state-level analysis\n",
    "\n",
    "# Convert data to ColumnDataSource\n",
    "source = ColumnDataSource(data=dict(region=region_counts.index.tolist(), counts=region_counts.values.tolist()))\n",
    "\n",
    "# Create figure\n",
    "p13 = figure(x_range=source.data['region'], height=height, title=\"Accidents by Region\",\n",
    "           toolbar_location=None, tools=\"\")\n",
    "\n",
    "# Plot bars\n",
    "p13.vbar(x='region', top='counts', width=0.9, source=source, line_color='white')\n",
    "\n",
    "# Customize plot properties\n",
    "p13.xgrid.grid_line_color = None\n",
    "p13.y_range.start = 0\n",
    "p13.xaxis.axis_label = \"Region\"\n",
    "p13.yaxis.axis_label = \"Number of Accidents\"\n",
    "p13.xaxis.major_label_orientation = 1.2"
   ],
   "metadata": {
    "collapsed": false,
    "ExecuteTime": {
     "end_time": "2024-04-29T23:17:57.018451100Z",
     "start_time": "2024-04-29T23:17:56.964508300Z"
    }
   },
   "id": "15ce71e33cd14d72"
  },
  {
   "cell_type": "code",
   "execution_count": 306,
   "outputs": [],
   "source": [
    "#graph 8\n",
    "\n",
    "# Aggregate collisions by driver_sex\n",
    "collision_counts = df1['driver_sex'].value_counts()\n",
    "\n",
    "# Create Bokeh plot\n",
    "#output_file(\"bar_collisions_by_driver_sex.html\")\n",
    "\n",
    "# Convert data to ColumnDataSource\n",
    "source = ColumnDataSource(data=dict(driver_sex=collision_counts.index.tolist(), counts=collision_counts.values.tolist()))\n",
    "\n",
    "# Create figure\n",
    "p14 = figure(x_range=source.data['driver_sex'], height=height, title=\"Collisions by Driver Sex\",\n",
    "           toolbar_location=None, tools=\"\")\n",
    "\n",
    "\n",
    "p14.vbar(x='driver_sex', top='counts', width=0.9, source=source)\n",
    "\n",
    "# Customize plot properties\n",
    "p14.xgrid.grid_line_color = None\n",
    "p14.y_range.start = 0\n",
    "p14.yaxis.axis_label = \"Number of Collisions\"\n",
    "p14.xaxis.axis_label = \"Driver Sex\""
   ],
   "metadata": {
    "collapsed": false,
    "ExecuteTime": {
     "end_time": "2024-04-29T23:17:57.080240600Z",
     "start_time": "2024-04-29T23:17:57.014404100Z"
    }
   },
   "id": "1113af75bac5da62"
  },
  {
   "cell_type": "code",
   "execution_count": 307,
   "outputs": [],
   "source": [
    "show(gridplot(\n",
    "[\n",
    "    [p1,p2, p14],\n",
    "    [p4, p5, p6],\n",
    "    [p7, p8, p9],\n",
    "    [p10, p11, p12],\n",
    "    [p13, None, None]\n",
    "  ], \n",
    "width=width, height=height))"
   ],
   "metadata": {
    "collapsed": false,
    "ExecuteTime": {
     "end_time": "2024-04-29T23:17:58.815507600Z",
     "start_time": "2024-04-29T23:17:57.082236400Z"
    }
   },
   "id": "2d669b85bdbfd5c"
  },
  {
   "cell_type": "code",
   "execution_count": 308,
   "outputs": [
    {
     "ename": "RuntimeError",
     "evalue": "Neither firefox and geckodriver nor a variant of chromium browser and chromedriver are available on system PATH. You can install the former with 'conda install -c conda-forge firefox geckodriver'.",
     "output_type": "error",
     "traceback": [
      "\u001B[1;31m---------------------------------------------------------------------------\u001B[0m",
      "\u001B[1;31mRuntimeError\u001B[0m                              Traceback (most recent call last)",
      "Cell \u001B[1;32mIn[308], line 14\u001B[0m\n\u001B[0;32m     12\u001B[0m save(p)\n\u001B[0;32m     13\u001B[0m \u001B[38;5;66;03m# Save plot as PNG\u001B[39;00m\n\u001B[1;32m---> 14\u001B[0m \u001B[43mexport_png\u001B[49m\u001B[43m(\u001B[49m\u001B[43mp\u001B[49m\u001B[43m,\u001B[49m\u001B[43m \u001B[49m\u001B[43mfilename\u001B[49m\u001B[38;5;241;43m=\u001B[39;49m\u001B[43mos\u001B[49m\u001B[38;5;241;43m.\u001B[39;49m\u001B[43mpath\u001B[49m\u001B[38;5;241;43m.\u001B[39;49m\u001B[43mjoin\u001B[49m\u001B[43m(\u001B[49m\u001B[43moutput_folder\u001B[49m\u001B[43m,\u001B[49m\u001B[43m \u001B[49m\u001B[38;5;124;43mf\u001B[39;49m\u001B[38;5;124;43m\"\u001B[39;49m\u001B[38;5;124;43mplot_\u001B[39;49m\u001B[38;5;132;43;01m{\u001B[39;49;00m\u001B[43midx\u001B[49m\u001B[38;5;132;43;01m}\u001B[39;49;00m\u001B[38;5;124;43m.png\u001B[39;49m\u001B[38;5;124;43m\"\u001B[39;49m\u001B[43m)\u001B[49m\u001B[43m)\u001B[49m\n",
      "File \u001B[1;32m~\\Desktop\\data analytics notes\\SEM1\\DAP\\DAP_VENV12\\Lib\\site-packages\\bokeh\\io\\export.py:119\u001B[0m, in \u001B[0;36mexport_png\u001B[1;34m(obj, filename, width, height, scale_factor, webdriver, timeout, state)\u001B[0m\n\u001B[0;32m     72\u001B[0m \u001B[38;5;28;01mdef\u001B[39;00m \u001B[38;5;21mexport_png\u001B[39m(obj: UIElement \u001B[38;5;241m|\u001B[39m Document, \u001B[38;5;241m*\u001B[39m, filename: PathLike \u001B[38;5;241m|\u001B[39m \u001B[38;5;28;01mNone\u001B[39;00m \u001B[38;5;241m=\u001B[39m \u001B[38;5;28;01mNone\u001B[39;00m, width: \u001B[38;5;28mint\u001B[39m \u001B[38;5;241m|\u001B[39m \u001B[38;5;28;01mNone\u001B[39;00m \u001B[38;5;241m=\u001B[39m \u001B[38;5;28;01mNone\u001B[39;00m,\n\u001B[0;32m     73\u001B[0m         height: \u001B[38;5;28mint\u001B[39m \u001B[38;5;241m|\u001B[39m \u001B[38;5;28;01mNone\u001B[39;00m \u001B[38;5;241m=\u001B[39m \u001B[38;5;28;01mNone\u001B[39;00m, scale_factor: \u001B[38;5;28mfloat\u001B[39m \u001B[38;5;241m=\u001B[39m \u001B[38;5;241m1\u001B[39m, webdriver: WebDriver \u001B[38;5;241m|\u001B[39m \u001B[38;5;28;01mNone\u001B[39;00m \u001B[38;5;241m=\u001B[39m \u001B[38;5;28;01mNone\u001B[39;00m,\n\u001B[0;32m     74\u001B[0m         timeout: \u001B[38;5;28mint\u001B[39m \u001B[38;5;241m=\u001B[39m \u001B[38;5;241m5\u001B[39m, state: State \u001B[38;5;241m|\u001B[39m \u001B[38;5;28;01mNone\u001B[39;00m \u001B[38;5;241m=\u001B[39m \u001B[38;5;28;01mNone\u001B[39;00m) \u001B[38;5;241m-\u001B[39m\u001B[38;5;241m>\u001B[39m \u001B[38;5;28mstr\u001B[39m:\n\u001B[0;32m     75\u001B[0m \u001B[38;5;250m    \u001B[39m\u001B[38;5;124;03m''' Export the ``UIElement`` object or document as a PNG.\u001B[39;00m\n\u001B[0;32m     76\u001B[0m \n\u001B[0;32m     77\u001B[0m \u001B[38;5;124;03m    If the filename is not given, it is derived from the script name (e.g.\u001B[39;00m\n\u001B[1;32m   (...)\u001B[0m\n\u001B[0;32m    117\u001B[0m \n\u001B[0;32m    118\u001B[0m \u001B[38;5;124;03m    '''\u001B[39;00m\n\u001B[1;32m--> 119\u001B[0m     image \u001B[38;5;241m=\u001B[39m \u001B[43mget_screenshot_as_png\u001B[49m\u001B[43m(\u001B[49m\u001B[43mobj\u001B[49m\u001B[43m,\u001B[49m\u001B[43m \u001B[49m\u001B[43mwidth\u001B[49m\u001B[38;5;241;43m=\u001B[39;49m\u001B[43mwidth\u001B[49m\u001B[43m,\u001B[49m\u001B[43m \u001B[49m\u001B[43mheight\u001B[49m\u001B[38;5;241;43m=\u001B[39;49m\u001B[43mheight\u001B[49m\u001B[43m,\u001B[49m\u001B[43m \u001B[49m\u001B[43mscale_factor\u001B[49m\u001B[38;5;241;43m=\u001B[39;49m\u001B[43mscale_factor\u001B[49m\u001B[43m,\u001B[49m\u001B[43m \u001B[49m\u001B[43mdriver\u001B[49m\u001B[38;5;241;43m=\u001B[39;49m\u001B[43mwebdriver\u001B[49m\u001B[43m,\u001B[49m\n\u001B[0;32m    120\u001B[0m \u001B[43m                                  \u001B[49m\u001B[43mtimeout\u001B[49m\u001B[38;5;241;43m=\u001B[39;49m\u001B[43mtimeout\u001B[49m\u001B[43m,\u001B[49m\u001B[43m \u001B[49m\u001B[43mstate\u001B[49m\u001B[38;5;241;43m=\u001B[39;49m\u001B[43mstate\u001B[49m\u001B[43m)\u001B[49m\n\u001B[0;32m    122\u001B[0m     \u001B[38;5;28;01mif\u001B[39;00m filename \u001B[38;5;129;01mis\u001B[39;00m \u001B[38;5;28;01mNone\u001B[39;00m:\n\u001B[0;32m    123\u001B[0m         filename \u001B[38;5;241m=\u001B[39m default_filename(\u001B[38;5;124m\"\u001B[39m\u001B[38;5;124mpng\u001B[39m\u001B[38;5;124m\"\u001B[39m)\n",
      "File \u001B[1;32m~\\Desktop\\data analytics notes\\SEM1\\DAP\\DAP_VENV12\\Lib\\site-packages\\bokeh\\io\\export.py:274\u001B[0m, in \u001B[0;36mget_screenshot_as_png\u001B[1;34m(obj, driver, timeout, resources, width, height, scale_factor, state)\u001B[0m\n\u001B[0;32m    271\u001B[0m         \u001B[38;5;28;01mraise\u001B[39;00m \u001B[38;5;167;01mValueError\u001B[39;00m(\u001B[38;5;124mf\u001B[39m\u001B[38;5;124m'\u001B[39m\u001B[38;5;124mExpected the web driver to have a device pixel ratio greater than \u001B[39m\u001B[38;5;132;01m{\u001B[39;00mscale_factor\u001B[38;5;132;01m}\u001B[39;00m\u001B[38;5;124m. \u001B[39m\u001B[38;5;124m'\u001B[39m\n\u001B[0;32m    272\u001B[0m                          \u001B[38;5;124mf\u001B[39m\u001B[38;5;124m'\u001B[39m\u001B[38;5;124mWas given a web driver with a device pixel ratio of \u001B[39m\u001B[38;5;132;01m{\u001B[39;00mdevice_pixel_ratio\u001B[38;5;132;01m}\u001B[39;00m\u001B[38;5;124m.\u001B[39m\u001B[38;5;124m'\u001B[39m)\n\u001B[0;32m    273\u001B[0m \u001B[38;5;28;01melse\u001B[39;00m:\n\u001B[1;32m--> 274\u001B[0m     web_driver \u001B[38;5;241m=\u001B[39m \u001B[43mwebdriver_control\u001B[49m\u001B[38;5;241;43m.\u001B[39;49m\u001B[43mget\u001B[49m\u001B[43m(\u001B[49m\u001B[43mscale_factor\u001B[49m\u001B[38;5;241;43m=\u001B[39;49m\u001B[43mscale_factor\u001B[49m\u001B[43m)\u001B[49m\n\u001B[0;32m    275\u001B[0m web_driver\u001B[38;5;241m.\u001B[39mmaximize_window()\n\u001B[0;32m    276\u001B[0m web_driver\u001B[38;5;241m.\u001B[39mget(\u001B[38;5;124mf\u001B[39m\u001B[38;5;124m\"\u001B[39m\u001B[38;5;124mfile://\u001B[39m\u001B[38;5;132;01m{\u001B[39;00mtmp\u001B[38;5;241m.\u001B[39mpath\u001B[38;5;132;01m}\u001B[39;00m\u001B[38;5;124m\"\u001B[39m)\n",
      "File \u001B[1;32m~\\Desktop\\data analytics notes\\SEM1\\DAP\\DAP_VENV12\\Lib\\site-packages\\bokeh\\io\\webdriver.py:176\u001B[0m, in \u001B[0;36m_WebdriverState.get\u001B[1;34m(self, scale_factor)\u001B[0m\n\u001B[0;32m    173\u001B[0m \u001B[38;5;28;01mif\u001B[39;00m \u001B[38;5;129;01mnot\u001B[39;00m \u001B[38;5;28mself\u001B[39m\u001B[38;5;241m.\u001B[39mreuse \u001B[38;5;129;01mor\u001B[39;00m \u001B[38;5;28mself\u001B[39m\u001B[38;5;241m.\u001B[39mcurrent \u001B[38;5;129;01mis\u001B[39;00m \u001B[38;5;28;01mNone\u001B[39;00m \u001B[38;5;129;01mor\u001B[39;00m \u001B[38;5;129;01mnot\u001B[39;00m scale_factor_less_than_web_driver_device_pixel_ratio(\n\u001B[0;32m    174\u001B[0m         scale_factor, \u001B[38;5;28mself\u001B[39m\u001B[38;5;241m.\u001B[39mcurrent):\n\u001B[0;32m    175\u001B[0m     \u001B[38;5;28mself\u001B[39m\u001B[38;5;241m.\u001B[39mreset()\n\u001B[1;32m--> 176\u001B[0m     \u001B[38;5;28mself\u001B[39m\u001B[38;5;241m.\u001B[39mcurrent \u001B[38;5;241m=\u001B[39m \u001B[38;5;28;43mself\u001B[39;49m\u001B[38;5;241;43m.\u001B[39;49m\u001B[43mcreate\u001B[49m\u001B[43m(\u001B[49m\u001B[43mscale_factor\u001B[49m\u001B[38;5;241;43m=\u001B[39;49m\u001B[43mscale_factor\u001B[49m\u001B[43m)\u001B[49m\n\u001B[0;32m    177\u001B[0m \u001B[38;5;28;01mreturn\u001B[39;00m \u001B[38;5;28mself\u001B[39m\u001B[38;5;241m.\u001B[39mcurrent\n",
      "File \u001B[1;32m~\\Desktop\\data analytics notes\\SEM1\\DAP\\DAP_VENV12\\Lib\\site-packages\\bokeh\\io\\webdriver.py:180\u001B[0m, in \u001B[0;36m_WebdriverState.create\u001B[1;34m(self, kind, scale_factor)\u001B[0m\n\u001B[0;32m    179\u001B[0m \u001B[38;5;28;01mdef\u001B[39;00m \u001B[38;5;21mcreate\u001B[39m(\u001B[38;5;28mself\u001B[39m, kind: DriverKind \u001B[38;5;241m|\u001B[39m \u001B[38;5;28;01mNone\u001B[39;00m \u001B[38;5;241m=\u001B[39m \u001B[38;5;28;01mNone\u001B[39;00m, scale_factor: \u001B[38;5;28mfloat\u001B[39m \u001B[38;5;241m=\u001B[39m \u001B[38;5;241m1\u001B[39m) \u001B[38;5;241m-\u001B[39m\u001B[38;5;241m>\u001B[39m WebDriver:\n\u001B[1;32m--> 180\u001B[0m     driver \u001B[38;5;241m=\u001B[39m \u001B[38;5;28;43mself\u001B[39;49m\u001B[38;5;241;43m.\u001B[39;49m\u001B[43m_create\u001B[49m\u001B[43m(\u001B[49m\u001B[43mkind\u001B[49m\u001B[43m,\u001B[49m\u001B[43m \u001B[49m\u001B[43mscale_factor\u001B[49m\u001B[38;5;241;43m=\u001B[39;49m\u001B[43mscale_factor\u001B[49m\u001B[43m)\u001B[49m\n\u001B[0;32m    181\u001B[0m     \u001B[38;5;28mself\u001B[39m\u001B[38;5;241m.\u001B[39m_drivers\u001B[38;5;241m.\u001B[39madd(driver)\n\u001B[0;32m    182\u001B[0m     \u001B[38;5;28;01mreturn\u001B[39;00m driver\n",
      "File \u001B[1;32m~\\Desktop\\data analytics notes\\SEM1\\DAP\\DAP_VENV12\\Lib\\site-packages\\bokeh\\io\\webdriver.py:198\u001B[0m, in \u001B[0;36m_WebdriverState._create\u001B[1;34m(self, kind, scale_factor)\u001B[0m\n\u001B[0;32m    195\u001B[0m         \u001B[38;5;28mself\u001B[39m\u001B[38;5;241m.\u001B[39mkind \u001B[38;5;241m=\u001B[39m \u001B[38;5;124m\"\u001B[39m\u001B[38;5;124mfirefox\u001B[39m\u001B[38;5;124m\"\u001B[39m\n\u001B[0;32m    196\u001B[0m         \u001B[38;5;28;01mreturn\u001B[39;00m driver\n\u001B[1;32m--> 198\u001B[0m     \u001B[38;5;28;01mraise\u001B[39;00m \u001B[38;5;167;01mRuntimeError\u001B[39;00m(\u001B[38;5;124m\"\u001B[39m\u001B[38;5;124mNeither firefox and geckodriver nor a variant of chromium browser and \u001B[39m\u001B[38;5;124m\"\u001B[39m \\\n\u001B[0;32m    199\u001B[0m                        \u001B[38;5;124m\"\u001B[39m\u001B[38;5;124mchromedriver are available on system PATH. You can install the former \u001B[39m\u001B[38;5;124m\"\u001B[39m \\\n\u001B[0;32m    200\u001B[0m                        \u001B[38;5;124m\"\u001B[39m\u001B[38;5;124mwith \u001B[39m\u001B[38;5;124m'\u001B[39m\u001B[38;5;124mconda install -c conda-forge firefox geckodriver\u001B[39m\u001B[38;5;124m'\u001B[39m\u001B[38;5;124m.\u001B[39m\u001B[38;5;124m\"\u001B[39m)\n\u001B[0;32m    201\u001B[0m \u001B[38;5;28;01melif\u001B[39;00m driver_kind \u001B[38;5;241m==\u001B[39m \u001B[38;5;124m\"\u001B[39m\u001B[38;5;124mchromium\u001B[39m\u001B[38;5;124m\"\u001B[39m:\n\u001B[0;32m    202\u001B[0m     \u001B[38;5;28;01mreturn\u001B[39;00m create_chromium_webdriver(scale_factor\u001B[38;5;241m=\u001B[39mscale_factor)\n",
      "\u001B[1;31mRuntimeError\u001B[0m: Neither firefox and geckodriver nor a variant of chromium browser and chromedriver are available on system PATH. You can install the former with 'conda install -c conda-forge firefox geckodriver'."
     ]
    }
   ],
   "source": [
    "# Create output folder if it doesn't exist\n",
    "cwd = os.getcwd()\n",
    "output_folder = os.path.join(cwd, 'dashboard_folder').replace(\"\\\\\", '/')\n",
    "# output_folder = \"images_folder\"\n",
    "os.makedirs(output_folder, exist_ok=True)\n",
    "\n",
    "graphs = [p1, p2, p4, p5, p6, p7, p8, p9, p10, p11]\n",
    "# Create and save multiple plots\n",
    "for idx, p in enumerate(graphs, start=1):\n",
    "    # Save plot as HTML\n",
    "    output_file(os.path.join(output_folder, f\"plot_{idx}.html\"))\n",
    "    save(p)\n",
    "    # Save plot as PNG\n",
    "    # export_png(p, filename=os.path.join(output_folder, f\"plot_{idx}.png\"))"
   ],
   "metadata": {
    "collapsed": false,
    "ExecuteTime": {
     "end_time": "2024-04-29T23:17:59.597299900Z",
     "start_time": "2024-04-29T23:17:58.814306400Z"
    }
   },
   "id": "667a980bd9c56817"
  },
  {
   "cell_type": "code",
   "execution_count": null,
   "outputs": [],
   "source": [],
   "metadata": {
    "collapsed": false,
    "ExecuteTime": {
     "end_time": "2024-04-29T23:17:59.603939500Z",
     "start_time": "2024-04-29T23:17:59.599491500Z"
    }
   },
   "id": "f93574570054970f"
  }
 ],
 "metadata": {
  "kernelspec": {
   "display_name": "Python 3",
   "language": "python",
   "name": "python3"
  },
  "language_info": {
   "codemirror_mode": {
    "name": "ipython",
    "version": 2
   },
   "file_extension": ".py",
   "mimetype": "text/x-python",
   "name": "python",
   "nbconvert_exporter": "python",
   "pygments_lexer": "ipython2",
   "version": "2.7.6"
  }
 },
 "nbformat": 4,
 "nbformat_minor": 5
}
